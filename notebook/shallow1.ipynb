{
 "cells": [
  {
   "cell_type": "code",
   "execution_count": 1,
   "id": "32f85918",
   "metadata": {},
   "outputs": [],
   "source": [
    "# !pip install fasttext\n",
    "# !pip install xgboost"
   ]
  },
  {
   "cell_type": "code",
   "execution_count": 2,
   "id": "5bf4819e",
   "metadata": {},
   "outputs": [
    {
     "name": "stderr",
     "output_type": "stream",
     "text": [
      "[nltk_data] Downloading package punkt to /root/nltk_data...\n",
      "[nltk_data]   Package punkt is already up-to-date!\n"
     ]
    }
   ],
   "source": [
    "import pandas as pd\n",
    "import nltk\n",
    "from nltk import FreqDist\n",
    "from nltk.tokenize import word_tokenize, sent_tokenize\n",
    "\n",
    "\n",
    "import fasttext\n",
    "import numpy as np\n",
    "from sklearn.model_selection import train_test_split\n",
    "from sklearn.linear_model import LogisticRegression\n",
    "from sklearn.metrics import classification_report\n",
    "from sklearn.preprocessing import StandardScaler\n",
    "from sklearn.metrics import accuracy_score, f1_score, precision_score, recall_score\n",
    "\n",
    "import csv\n",
    "\n",
    "import pandas as pd\n",
    "import re\n",
    "import string\n",
    "\n",
    "import xgboost as xgb\n",
    "from sklearn.preprocessing import LabelEncoder\n",
    "\n",
    "# Make sure you've downloaded the appropriate resources\n",
    "nltk.download('punkt')\n",
    "\n",
    "np.random.seed(42)\n"
   ]
  },
  {
   "cell_type": "code",
   "execution_count": 3,
   "id": "02d7410c",
   "metadata": {},
   "outputs": [],
   "source": [
    "lang = \"es\"\n",
    "\n",
    "df = pd.read_csv(\"../data/subtask_1/\"+lang+\"/train.tsv\", sep='\\t')\n",
    "\n",
    "\n",
    "mapping = {\n",
    "    \"generated\":0,\n",
    "    \"human\":1\n",
    "}\n",
    "\n",
    "df[\"label\"] = df['label'].map(mapping)\n",
    "df=df.drop(df.columns[0], axis=1)"
   ]
  },
  {
   "cell_type": "code",
   "execution_count": 4,
   "id": "9379618e",
   "metadata": {},
   "outputs": [],
   "source": [
    "def preprocess_text(text):\n",
    "    # Remove non-printable characters\n",
    "    text = ''.join(ch for ch in text if ch.isprintable() or ch.isspace())\n",
    "\n",
    "    # Remove some special characters\n",
    "#     special_chars = ['$', '%', '^', '_', '`', '{', '}', '~', '\\\\', '|', '<', '>', '*', '+', '=']\n",
    "#     for special_char in special_chars:\n",
    "#         text = text.replace(special_char, '')\n",
    "        \n",
    "    # Remove emojis: Emojis fall outside the ASCII range and are replaced with ''\n",
    "    text = text.encode('ascii', 'ignore').decode('ascii')\n",
    "\n",
    "    return text\n",
    "\n",
    "# Assume that df is your DataFrame and 'text_column' is the column with the text\n",
    "# Replace 'df' and 'text_column' with your actual DataFrame name and text column name\n",
    "\n",
    "# Applying the preprocessing function\n",
    "df['text'] = df['text'].apply(lambda x: preprocess_text(x))\n"
   ]
  },
  {
   "cell_type": "code",
   "execution_count": 5,
   "id": "02288e9f",
   "metadata": {},
   "outputs": [],
   "source": [
    "def calculate_features(text):\n",
    "    word_tokens = word_tokenize(text)\n",
    "    sent_tokens = sent_tokenize(text)\n",
    "    \n",
    "    avg_word_length = sum(len(word) for word in word_tokens) / len(word_tokens)\n",
    "    \n",
    "    avg_sent_length = sum(len(sent) for sent in sent_tokens) / len(sent_tokens)\n",
    "    \n",
    "    vocab_richness = len(set(word_tokens)) / len(word_tokens)\n",
    "    \n",
    "    freq_dist = FreqDist(word_tokens)\n",
    "    repetition_rate = len([freq for word, freq in freq_dist.items() if freq > 1]) / len(word_tokens)\n",
    "\n",
    "    return avg_word_length, avg_sent_length, vocab_richness, repetition_rate\n",
    "\n",
    "\n",
    "df['avg_word_length'], df['avg_sent_length'], df['vocab_richness'], df['repetition_rate'] = zip(*df['text'].map(calculate_features))\n"
   ]
  },
  {
   "cell_type": "code",
   "execution_count": 6,
   "id": "cefe6349",
   "metadata": {},
   "outputs": [
    {
     "name": "stderr",
     "output_type": "stream",
     "text": [
      "Read 1M words\n",
      "Number of words:  84618\n",
      "Number of labels: 0\n",
      "Progress: 100.0% words/sec/thread: 1104162 lr:  0.000000 avg.loss:      -nan ETA:   0h 0m 0s\n"
     ]
    },
    {
     "name": "stdout",
     "output_type": "stream",
     "text": [
      "Accuracy: 0.637043966323667\n",
      "F1 Score: 0.6356382167345916\n",
      "Precision: 0.637190875397059\n",
      "Recall: 0.637043966323667\n"
     ]
    }
   ],
   "source": [
    "RANDOM_SEED = 42\n",
    "\n",
    "\n",
    "train_df, test_df = train_test_split(df, test_size=0.1, random_state=42)\n",
    "train_df, valid_df = train_test_split(train_df, test_size=0.1, random_state=42)\n",
    "\n",
    "\n",
    "train_df['text'].fillna('', inplace=True)\n",
    "train_df['label'].fillna('0', inplace=True)  \n",
    "\n",
    "train_df[['label', 'text']].to_csv('train.txt', index=False, sep=' ', header=False, quoting=csv.QUOTE_NONE, escapechar = ' ')\n",
    "\n",
    "\n",
    "ft_model = fasttext.train_supervised('train.txt', lr=1.0, epoch=25, wordNgrams=2)\n",
    "\n",
    "\n",
    "def generate_sentence_vectors(text):\n",
    "    return ft_model.get_sentence_vector(text)\n",
    "\n",
    "\n",
    "train_vectors = np.array(train_df['text'].apply(generate_sentence_vectors).tolist())\n",
    "test_vectors = np.array(test_df['text'].apply(generate_sentence_vectors).tolist())\n",
    "\n",
    "\n",
    "train_features = np.concatenate([train_vectors, train_df[['avg_word_length', 'avg_sent_length', 'vocab_richness', 'repetition_rate']].values], axis=1)\n",
    "test_features = np.concatenate([test_vectors, test_df[['avg_word_length', 'avg_sent_length', 'vocab_richness', 'repetition_rate']].values], axis=1)\n",
    "\n",
    "\n",
    "scaler = StandardScaler()\n",
    "train_features = scaler.fit_transform(train_features)\n",
    "test_features = scaler.transform(test_features)\n",
    "\n",
    "\n",
    "lr_model = LogisticRegression(random_state=RANDOM_SEED)\n",
    "lr_model.fit(train_features, train_df['label'])\n",
    "\n",
    "\n",
    "test_preds = lr_model.predict(test_features)\n",
    "\n",
    "\n",
    "\n",
    "true_labels = test_df['label']\n",
    "predicted_labels = test_preds\n",
    "\n",
    "# Calculate metrics\n",
    "accuracy = accuracy_score(true_labels, predicted_labels)\n",
    "f1 = f1_score(true_labels, predicted_labels, average='weighted')  \n",
    "precision = precision_score(true_labels, predicted_labels, average='weighted')  \n",
    "recall = recall_score(true_labels, predicted_labels, average='weighted')\n",
    "\n",
    "# Print metrics\n",
    "print('Accuracy:', accuracy)\n",
    "print('F1 Score:', f1)\n",
    "print('Precision:', precision)\n",
    "print('Recall:', recall)\n"
   ]
  },
  {
   "cell_type": "code",
   "execution_count": 10,
   "id": "58be6a06",
   "metadata": {},
   "outputs": [
    {
     "data": {
      "text/plain": [
       "44351"
      ]
     },
     "execution_count": 10,
     "metadata": {},
     "output_type": "execute_result"
    }
   ],
   "source": [
    "27414+3046+3385+25969+2886+3207\n",
    "18156+2018+2242+17766+1975+2194"
   ]
  },
  {
   "cell_type": "code",
   "execution_count": 7,
   "id": "0f627ad5",
   "metadata": {},
   "outputs": [
    {
     "name": "stdout",
     "output_type": "stream",
     "text": [
      "25969\n",
      "2886\n",
      "3207\n"
     ]
    }
   ],
   "source": [
    "print(len(train_df))\n",
    "print(len(valid_df))\n",
    "print(len(test_df))\n",
    "\n",
    "\n",
    "# subtask1\n",
    "# en\n",
    "# train: 27414\n",
    "# valid: 3046\n",
    "# test: 3385\n",
    "\n",
    "# es\n",
    "# train: 25969\n",
    "# valid: 2886\n",
    "# test: 3207\n",
    "\n",
    "\n",
    "# subtask2\n",
    "# en\n",
    "# train: 18156\n",
    "# valid: 2018\n",
    "# test: 2242\n",
    "\n",
    "# es\n",
    "# train: 17766\n",
    "# valid: 1975\n",
    "# test: 2194"
   ]
  },
  {
   "cell_type": "code",
   "execution_count": 8,
   "id": "c66a7986",
   "metadata": {},
   "outputs": [
    {
     "name": "stderr",
     "output_type": "stream",
     "text": [
      "<frozen importlib._bootstrap>:219: RuntimeWarning: pyarrow.lib.IpcWriteOptions size changed, may indicate binary incompatibility. Expected 72 from C header, got 88 from PyObject\n"
     ]
    },
    {
     "name": "stdout",
     "output_type": "stream",
     "text": [
      "[09:02:36] WARNING: ../src/learner.cc:576: \n",
      "Parameters: { \"silent\" } might not be used.\n",
      "\n",
      "  This could be a false alarm, with some parameters getting used by language bindings but\n",
      "  then being mistakenly passed down to XGBoost core, or some parameter actually being used\n",
      "  but getting flagged wrongly here. Please open an issue if you find any such cases.\n",
      "\n",
      "\n",
      "[09:02:37] WARNING: ../src/learner.cc:1115: Starting in XGBoost 1.3.0, the default evaluation metric used with the objective 'multi:softmax' was changed from 'merror' to 'mlogloss'. Explicitly set eval_metric if you'd like to restore the old behavior.\n",
      "Accuracy: 0.7087620829435609\n",
      "Precision: 0.7085842652922298\n",
      "Recall: 0.708762107951537\n",
      "F1 Score: 0.7086111024639283\n"
     ]
    }
   ],
   "source": [
    "le = LabelEncoder()\n",
    "y_train_encoded = le.fit_transform(train_df['label'])\n",
    "y_test_encoded = le.transform(test_df['label'])\n",
    "\n",
    "\n",
    "dtrain = xgb.DMatrix(train_features, label=y_train_encoded)\n",
    "dtest = xgb.DMatrix(test_features, label=y_test_encoded)\n",
    "\n",
    "\n",
    "parameters = {\n",
    "    'objective': 'multi:softmax',\n",
    "    'num_class': 6,  \n",
    "    'max_depth': 5,\n",
    "    'eta': 0.3,\n",
    "    'seed': RANDOM_SEED,  \n",
    "    'silent': 1,  \n",
    "}\n",
    "\n",
    "\n",
    "xgb_model = xgb.train(parameters, dtrain, num_boost_round=10)\n",
    "\n",
    "\n",
    "y_pred = xgb_model.predict(dtest)\n",
    "\n",
    "\n",
    "accuracy = accuracy_score(y_test_encoded, y_pred)\n",
    "precision = precision_score(y_test_encoded, y_pred, average='macro')\n",
    "recall = recall_score(y_test_encoded, y_pred, average='macro')\n",
    "f1 = f1_score(y_test_encoded, y_pred, average='macro')\n",
    "\n",
    "print(f\"Accuracy: {accuracy}\")\n",
    "print(f\"Precision: {precision}\")\n",
    "print(f\"Recall: {recall}\")\n",
    "print(f\"F1 Score: {f1}\")"
   ]
  },
  {
   "cell_type": "code",
   "execution_count": null,
   "id": "16c71443",
   "metadata": {},
   "outputs": [],
   "source": []
  },
  {
   "cell_type": "code",
   "execution_count": null,
   "id": "b634250a",
   "metadata": {},
   "outputs": [],
   "source": []
  }
 ],
 "metadata": {
  "kernelspec": {
   "display_name": "Python 3 (ipykernel)",
   "language": "python",
   "name": "python3"
  },
  "language_info": {
   "codemirror_mode": {
    "name": "ipython",
    "version": 3
   },
   "file_extension": ".py",
   "mimetype": "text/x-python",
   "name": "python",
   "nbconvert_exporter": "python",
   "pygments_lexer": "ipython3",
   "version": "3.8.13"
  }
 },
 "nbformat": 4,
 "nbformat_minor": 5
}
