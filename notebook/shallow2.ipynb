{
 "cells": [
  {
   "cell_type": "code",
   "execution_count": 1,
   "id": "ac06da3e",
   "metadata": {},
   "outputs": [
    {
     "name": "stdout",
     "output_type": "stream",
     "text": [
      "Looking in indexes: https://pypi.org/simple, https://pypi.ngc.nvidia.com\n",
      "Requirement already satisfied: fasttext in /opt/conda/lib/python3.8/site-packages (0.9.2)\n",
      "Requirement already satisfied: numpy in /opt/conda/lib/python3.8/site-packages (from fasttext) (1.22.3)\n",
      "Requirement already satisfied: pybind11>=2.2 in /opt/conda/lib/python3.8/site-packages (from fasttext) (2.9.2)\n",
      "Requirement already satisfied: setuptools>=0.7.0 in /opt/conda/lib/python3.8/site-packages (from fasttext) (59.5.0)\n",
      "\u001b[33mWARNING: Running pip as the 'root' user can result in broken permissions and conflicting behaviour with the system package manager. It is recommended to use a virtual environment instead: https://pip.pypa.io/warnings/venv\u001b[0m\n",
      "Looking in indexes: https://pypi.org/simple, https://pypi.ngc.nvidia.com\n",
      "Requirement already satisfied: xgboost in /opt/conda/lib/python3.8/site-packages (1.5.2)\n",
      "Requirement already satisfied: numpy in /opt/conda/lib/python3.8/site-packages (from xgboost) (1.22.3)\n",
      "Requirement already satisfied: scipy in /opt/conda/lib/python3.8/site-packages (from xgboost) (1.6.3)\n",
      "\u001b[33mWARNING: Running pip as the 'root' user can result in broken permissions and conflicting behaviour with the system package manager. It is recommended to use a virtual environment instead: https://pip.pypa.io/warnings/venv\u001b[0m\n"
     ]
    }
   ],
   "source": [
    "!pip install fasttext\n",
    "!pip install xgboost"
   ]
  },
  {
   "cell_type": "code",
   "execution_count": 2,
   "id": "487f1860",
   "metadata": {},
   "outputs": [
    {
     "name": "stderr",
     "output_type": "stream",
     "text": [
      "[nltk_data] Downloading package punkt to /root/nltk_data...\n",
      "[nltk_data]   Package punkt is already up-to-date!\n"
     ]
    }
   ],
   "source": [
    "import pandas as pd\n",
    "import nltk\n",
    "from nltk import FreqDist\n",
    "from nltk.tokenize import word_tokenize, sent_tokenize\n",
    "\n",
    "\n",
    "import fasttext\n",
    "import numpy as np\n",
    "from sklearn.model_selection import train_test_split\n",
    "from sklearn.linear_model import LogisticRegression\n",
    "from sklearn.metrics import classification_report\n",
    "from sklearn.preprocessing import StandardScaler\n",
    "from sklearn.metrics import accuracy_score, f1_score, precision_score, recall_score\n",
    "\n",
    "import csv\n",
    "\n",
    "import xgboost as xgb\n",
    "from sklearn.preprocessing import LabelEncoder\n",
    "\n",
    "# Make sure you've downloaded the appropriate resources\n",
    "nltk.download('punkt')\n",
    "\n",
    "np.random.seed(42)\n"
   ]
  },
  {
   "cell_type": "code",
   "execution_count": 3,
   "id": "b9c5eca1",
   "metadata": {},
   "outputs": [],
   "source": [
    "lang = \"es\"\n",
    "\n",
    "df = pd.read_csv(\"../data/subtask_2/\"+lang+\"/train.tsv\", sep='\\t')\n",
    "\n",
    "\n",
    "mapping = {\n",
    "    \"A\": 0,\n",
    "    \"B\": 1,\n",
    "    \"C\": 2,\n",
    "    \"D\": 3,\n",
    "    \"E\": 4,\n",
    "    \"F\": 5\n",
    "}\n",
    "\n",
    "df[\"label\"] = df['label'].map(mapping)\n",
    "df=df.drop(df.columns[0], axis=1)"
   ]
  },
  {
   "cell_type": "code",
   "execution_count": 4,
   "id": "530d413d",
   "metadata": {},
   "outputs": [],
   "source": [
    "def calculate_features(text):\n",
    "    word_tokens = word_tokenize(text)\n",
    "    sent_tokens = sent_tokenize(text)\n",
    "    \n",
    "    avg_word_length = sum(len(word) for word in word_tokens) / len(word_tokens)\n",
    "    \n",
    "    avg_sent_length = sum(len(sent) for sent in sent_tokens) / len(sent_tokens)\n",
    "    \n",
    "    vocab_richness = len(set(word_tokens)) / len(word_tokens)\n",
    "    \n",
    "    freq_dist = FreqDist(word_tokens)\n",
    "    repetition_rate = len([freq for word, freq in freq_dist.items() if freq > 1]) / len(word_tokens)\n",
    "\n",
    "    return avg_word_length, avg_sent_length, vocab_richness, repetition_rate\n",
    "\n",
    "\n",
    "df['avg_word_length'], df['avg_sent_length'], df['vocab_richness'], df['repetition_rate'] = zip(*df['text'].map(calculate_features))\n"
   ]
  },
  {
   "cell_type": "code",
   "execution_count": 5,
   "id": "f13189be",
   "metadata": {},
   "outputs": [
    {
     "data": {
      "text/html": [
       "<div>\n",
       "<style scoped>\n",
       "    .dataframe tbody tr th:only-of-type {\n",
       "        vertical-align: middle;\n",
       "    }\n",
       "\n",
       "    .dataframe tbody tr th {\n",
       "        vertical-align: top;\n",
       "    }\n",
       "\n",
       "    .dataframe thead th {\n",
       "        text-align: right;\n",
       "    }\n",
       "</style>\n",
       "<table border=\"1\" class=\"dataframe\">\n",
       "  <thead>\n",
       "    <tr style=\"text-align: right;\">\n",
       "      <th></th>\n",
       "      <th>text</th>\n",
       "      <th>label</th>\n",
       "      <th>avg_word_length</th>\n",
       "      <th>avg_sent_length</th>\n",
       "      <th>vocab_richness</th>\n",
       "      <th>repetition_rate</th>\n",
       "    </tr>\n",
       "  </thead>\n",
       "  <tbody>\n",
       "    <tr>\n",
       "      <th>0</th>\n",
       "      <td>Sin embargo, los jóvenes son capaces de recono...</td>\n",
       "      <td>1</td>\n",
       "      <td>4.964286</td>\n",
       "      <td>164.000000</td>\n",
       "      <td>0.803571</td>\n",
       "      <td>0.142857</td>\n",
       "    </tr>\n",
       "    <tr>\n",
       "      <th>1</th>\n",
       "      <td>¿Hay algo más que quieras compartir? ¿Algo sob...</td>\n",
       "      <td>1</td>\n",
       "      <td>4.619565</td>\n",
       "      <td>71.285714</td>\n",
       "      <td>0.804348</td>\n",
       "      <td>0.141304</td>\n",
       "    </tr>\n",
       "    <tr>\n",
       "      <th>2</th>\n",
       "      <td>El servicio de sala es bueno, rápido y amabilí...</td>\n",
       "      <td>1</td>\n",
       "      <td>4.074627</td>\n",
       "      <td>82.500000</td>\n",
       "      <td>0.865672</td>\n",
       "      <td>0.104478</td>\n",
       "    </tr>\n",
       "    <tr>\n",
       "      <th>3</th>\n",
       "      <td>Para concentrarse en el hablante, trata de des...</td>\n",
       "      <td>5</td>\n",
       "      <td>4.585366</td>\n",
       "      <td>111.750000</td>\n",
       "      <td>0.646341</td>\n",
       "      <td>0.195122</td>\n",
       "    </tr>\n",
       "    <tr>\n",
       "      <th>4</th>\n",
       "      <td>Los responsables locales tendrán ahora que esp...</td>\n",
       "      <td>5</td>\n",
       "      <td>4.465116</td>\n",
       "      <td>230.500000</td>\n",
       "      <td>0.639535</td>\n",
       "      <td>0.127907</td>\n",
       "    </tr>\n",
       "  </tbody>\n",
       "</table>\n",
       "</div>"
      ],
      "text/plain": [
       "                                                text  label  avg_word_length  \\\n",
       "0  Sin embargo, los jóvenes son capaces de recono...      1         4.964286   \n",
       "1  ¿Hay algo más que quieras compartir? ¿Algo sob...      1         4.619565   \n",
       "2  El servicio de sala es bueno, rápido y amabilí...      1         4.074627   \n",
       "3  Para concentrarse en el hablante, trata de des...      5         4.585366   \n",
       "4  Los responsables locales tendrán ahora que esp...      5         4.465116   \n",
       "\n",
       "   avg_sent_length  vocab_richness  repetition_rate  \n",
       "0       164.000000        0.803571         0.142857  \n",
       "1        71.285714        0.804348         0.141304  \n",
       "2        82.500000        0.865672         0.104478  \n",
       "3       111.750000        0.646341         0.195122  \n",
       "4       230.500000        0.639535         0.127907  "
      ]
     },
     "execution_count": 5,
     "metadata": {},
     "output_type": "execute_result"
    }
   ],
   "source": [
    "df.head()"
   ]
  },
  {
   "cell_type": "code",
   "execution_count": 6,
   "id": "9079134b",
   "metadata": {},
   "outputs": [
    {
     "name": "stderr",
     "output_type": "stream",
     "text": [
      "Read 1M words\n",
      "Number of words:  76119\n",
      "Number of labels: 0\n",
      "Progress: 100.0% words/sec/thread:  829116 lr:  0.000000 avg.loss:      -nan ETA:   0h 0m 0s\n"
     ]
    },
    {
     "name": "stdout",
     "output_type": "stream",
     "text": [
      "Accuracy: 0.4402917046490428\n",
      "F1 Score: 0.42994199386641524\n",
      "Precision: 0.42702611762652143\n",
      "Recall: 0.4402917046490428\n"
     ]
    }
   ],
   "source": [
    "RANDOM_SEED = 42\n",
    "\n",
    "\n",
    "train_df, test_df = train_test_split(df, test_size=0.1, random_state=42)\n",
    "train_df, valid_df = train_test_split(train_df, test_size=0.1, random_state=42)\n",
    "\n",
    "\n",
    "train_df['text'].fillna('', inplace=True)\n",
    "train_df['label'].fillna('0', inplace=True)  \n",
    "\n",
    "\n",
    "train_df[['label', 'text']].to_csv('train.txt', index=False, sep=' ', header=False, quoting=csv.QUOTE_NONE, escapechar = ' ')\n",
    "\n",
    "\n",
    "ft_model = fasttext.train_supervised('train.txt', lr=1.0, epoch=25, wordNgrams=2)\n",
    "\n",
    "\n",
    "def generate_sentence_vectors(text):\n",
    "    return ft_model.get_sentence_vector(text)\n",
    "\n",
    "\n",
    "train_vectors = np.array(train_df['text'].apply(generate_sentence_vectors).tolist())\n",
    "test_vectors = np.array(test_df['text'].apply(generate_sentence_vectors).tolist())\n",
    "\n",
    "\n",
    "train_features = np.concatenate([train_vectors, train_df[['avg_word_length', 'avg_sent_length', 'vocab_richness', 'repetition_rate']].values], axis=1)\n",
    "test_features = np.concatenate([test_vectors, test_df[['avg_word_length', 'avg_sent_length', 'vocab_richness', 'repetition_rate']].values], axis=1)\n",
    "\n",
    "\n",
    "scaler = StandardScaler()\n",
    "train_features = scaler.fit_transform(train_features)\n",
    "test_features = scaler.transform(test_features)\n",
    "\n",
    "\n",
    "lr_model = LogisticRegression(random_state=RANDOM_SEED)\n",
    "lr_model.fit(train_features, train_df['label'])\n",
    "\n",
    "\n",
    "test_preds = lr_model.predict(test_features)\n",
    "\n",
    "\n",
    "\n",
    "true_labels = test_df['label']\n",
    "predicted_labels = test_preds\n",
    "\n",
    "\n",
    "accuracy = accuracy_score(true_labels, predicted_labels)\n",
    "f1 = f1_score(true_labels, predicted_labels, average='weighted')  \n",
    "precision = precision_score(true_labels, predicted_labels, average='weighted')  \n",
    "recall = recall_score(true_labels, predicted_labels, average='weighted') \n",
    "\n",
    "\n",
    "print('Accuracy:', accuracy)\n",
    "print('F1 Score:', f1)\n",
    "print('Precision:', precision)\n",
    "print('Recall:', recall)\n"
   ]
  },
  {
   "cell_type": "code",
   "execution_count": 7,
   "id": "d17e5fe8",
   "metadata": {},
   "outputs": [
    {
     "name": "stdout",
     "output_type": "stream",
     "text": [
      "17766\n",
      "1975\n",
      "2194\n"
     ]
    }
   ],
   "source": [
    "print(len(train_df))\n",
    "print(len(valid_df))\n",
    "print(len(test_df))\n"
   ]
  },
  {
   "cell_type": "code",
   "execution_count": 8,
   "id": "265865e1",
   "metadata": {},
   "outputs": [
    {
     "name": "stderr",
     "output_type": "stream",
     "text": [
      "<frozen importlib._bootstrap>:219: RuntimeWarning: pyarrow.lib.IpcWriteOptions size changed, may indicate binary incompatibility. Expected 72 from C header, got 88 from PyObject\n"
     ]
    },
    {
     "name": "stdout",
     "output_type": "stream",
     "text": [
      "[08:48:36] WARNING: ../src/learner.cc:576: \n",
      "Parameters: { \"silent\" } might not be used.\n",
      "\n",
      "  This could be a false alarm, with some parameters getting used by language bindings but\n",
      "  then being mistakenly passed down to XGBoost core, or some parameter actually being used\n",
      "  but getting flagged wrongly here. Please open an issue if you find any such cases.\n",
      "\n",
      "\n",
      "[08:48:36] WARNING: ../src/learner.cc:1115: Starting in XGBoost 1.3.0, the default evaluation metric used with the objective 'multi:softmax' was changed from 'merror' to 'mlogloss'. Explicitly set eval_metric if you'd like to restore the old behavior.\n",
      "Accuracy: 0.427073837739289\n",
      "Precision: 0.41084147543753224\n",
      "Recall: 0.42875237390864784\n",
      "F1 Score: 0.41247650732213464\n"
     ]
    }
   ],
   "source": [
    "le = LabelEncoder()\n",
    "y_train_encoded = le.fit_transform(train_df['label'])\n",
    "y_test_encoded = le.transform(test_df['label'])\n",
    "\n",
    "\n",
    "dtrain = xgb.DMatrix(train_features, label=y_train_encoded)\n",
    "dtest = xgb.DMatrix(test_features, label=y_test_encoded)\n",
    "\n",
    "\n",
    "parameters = {\n",
    "    'objective': 'multi:softmax',\n",
    "    'num_class': 6,  \n",
    "    'max_depth': 5,\n",
    "    'eta': 0.3,\n",
    "    'seed': RANDOM_SEED,  \n",
    "    'silent': 1,  \n",
    "}\n",
    "\n",
    "\n",
    "xgb_model = xgb.train(parameters, dtrain, num_boost_round=10)\n",
    "\n",
    "\n",
    "y_pred = xgb_model.predict(dtest)\n",
    "\n",
    "\n",
    "accuracy = accuracy_score(y_test_encoded, y_pred)\n",
    "precision = precision_score(y_test_encoded, y_pred, average='macro')\n",
    "recall = recall_score(y_test_encoded, y_pred, average='macro')\n",
    "f1 = f1_score(y_test_encoded, y_pred, average='macro')\n",
    "\n",
    "print(f\"Accuracy: {accuracy}\")\n",
    "print(f\"Precision: {precision}\")\n",
    "print(f\"Recall: {recall}\")\n",
    "print(f\"F1 Score: {f1}\")"
   ]
  },
  {
   "cell_type": "code",
   "execution_count": null,
   "id": "2731eb73",
   "metadata": {},
   "outputs": [],
   "source": []
  },
  {
   "cell_type": "code",
   "execution_count": null,
   "id": "e1e04607",
   "metadata": {},
   "outputs": [],
   "source": []
  }
 ],
 "metadata": {
  "kernelspec": {
   "display_name": "Python 3 (ipykernel)",
   "language": "python",
   "name": "python3"
  },
  "language_info": {
   "codemirror_mode": {
    "name": "ipython",
    "version": 3
   },
   "file_extension": ".py",
   "mimetype": "text/x-python",
   "name": "python",
   "nbconvert_exporter": "python",
   "pygments_lexer": "ipython3",
   "version": "3.8.13"
  }
 },
 "nbformat": 4,
 "nbformat_minor": 5
}
